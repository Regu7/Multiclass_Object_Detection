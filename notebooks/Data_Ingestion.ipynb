{
 "cells": [
  {
   "cell_type": "code",
   "execution_count": 4,
   "metadata": {},
   "outputs": [],
   "source": [
    "import pandas as pd\n",
    "import yaml\n",
    "import os\n",
    "os.chdir(r\"../\")"
   ]
  },
  {
   "cell_type": "code",
   "execution_count": 8,
   "metadata": {},
   "outputs": [],
   "source": [
    "\n",
    "with open('raw_data\\data.yaml','r') as f:\n",
    "\n",
    "    metadata = yaml.safe_load(f)"
   ]
  },
  {
   "cell_type": "code",
   "execution_count": 9,
   "metadata": {},
   "outputs": [
    {
     "data": {
      "text/plain": [
       "{0: 'aeroplane',\n",
       " 1: 'apple',\n",
       " 2: 'backpack',\n",
       " 3: 'banana',\n",
       " 4: 'baseball bat',\n",
       " 5: 'baseball glove',\n",
       " 6: 'bear',\n",
       " 7: 'bed',\n",
       " 8: 'bench',\n",
       " 9: 'bicycle',\n",
       " 10: 'bird',\n",
       " 11: 'boat',\n",
       " 12: 'book',\n",
       " 13: 'bottle',\n",
       " 14: 'bowl',\n",
       " 15: 'broccoli',\n",
       " 16: 'bus',\n",
       " 17: 'cake',\n",
       " 18: 'car',\n",
       " 19: 'carrot',\n",
       " 20: 'cat',\n",
       " 21: 'cell phone',\n",
       " 22: 'chair',\n",
       " 23: 'clock',\n",
       " 24: 'cow',\n",
       " 25: 'cup',\n",
       " 26: 'diningtable',\n",
       " 27: 'dog',\n",
       " 28: 'donut',\n",
       " 29: 'elephant',\n",
       " 30: 'fire hydrant',\n",
       " 31: 'fork',\n",
       " 32: 'frisbee',\n",
       " 33: 'giraffe',\n",
       " 34: 'hair drier',\n",
       " 35: 'handbag',\n",
       " 36: 'horse',\n",
       " 37: 'hot dog',\n",
       " 38: 'keyboard',\n",
       " 39: 'kite',\n",
       " 40: 'knife',\n",
       " 41: 'laptop',\n",
       " 42: 'microwave',\n",
       " 43: 'motorbike',\n",
       " 44: 'mouse',\n",
       " 45: 'orange',\n",
       " 46: 'oven',\n",
       " 47: 'parking meter',\n",
       " 48: 'person',\n",
       " 49: 'pizza',\n",
       " 50: 'pottedplant',\n",
       " 51: 'refrigerator',\n",
       " 52: 'remote',\n",
       " 53: 'sandwich',\n",
       " 54: 'scissors',\n",
       " 55: 'sheep',\n",
       " 56: 'sink',\n",
       " 57: 'skateboard',\n",
       " 58: 'skis',\n",
       " 59: 'snowboard',\n",
       " 60: 'sofa',\n",
       " 61: 'spoon',\n",
       " 62: 'sports ball',\n",
       " 63: 'stop sign',\n",
       " 64: 'suitcase',\n",
       " 65: 'surfboard',\n",
       " 66: 'teddy bear',\n",
       " 67: 'tennis racket',\n",
       " 68: 'tie',\n",
       " 69: 'toaster',\n",
       " 70: 'toilet',\n",
       " 71: 'toothbrush',\n",
       " 72: 'traffic light',\n",
       " 73: 'train',\n",
       " 74: 'truck',\n",
       " 75: 'tvmonitor',\n",
       " 76: 'umbrella',\n",
       " 77: 'vase',\n",
       " 78: 'wine glass',\n",
       " 79: 'zebra'}"
      ]
     },
     "execution_count": 9,
     "metadata": {},
     "output_type": "execute_result"
    }
   ],
   "source": [
    "meta_class_dict = {}\n",
    "for i,name in enumerate(metadata['names']):\n",
    "    meta_class_dict[i] = name\n",
    "meta_class_dict"
   ]
  },
  {
   "cell_type": "code",
   "execution_count": 10,
   "metadata": {},
   "outputs": [
    {
     "data": {
      "text/plain": [
       "{'bed': 0,\n",
       " 'bicycle': 1,\n",
       " 'bird': 2,\n",
       " 'boat': 3,\n",
       " 'bus': 4,\n",
       " 'car': 5,\n",
       " 'cat': 6,\n",
       " 'cell phone': 7,\n",
       " 'chair': 8,\n",
       " 'diningtable': 9,\n",
       " 'cow': 10,\n",
       " 'horse': 11,\n",
       " 'microwave': 12,\n",
       " 'motorbike': 13,\n",
       " 'oven': 14,\n",
       " 'refrigerator': 15,\n",
       " 'sofa': 16,\n",
       " 'sheep': 17,\n",
       " 'tvmonitor': 18,\n",
       " 'truck': 19}"
      ]
     },
     "execution_count": 10,
     "metadata": {},
     "output_type": "execute_result"
    }
   ],
   "source": [
    "class_dict = {}\n",
    "for i, name in enumerate(metadata[\"class_need\"]):\n",
    "    class_dict[name] = i\n",
    "class_dict"
   ]
  },
  {
   "cell_type": "markdown",
   "metadata": {},
   "source": [
    "## Changing the label annotation files with only selected classes"
   ]
  },
  {
   "cell_type": "code",
   "execution_count": 12,
   "metadata": {},
   "outputs": [],
   "source": [
    "if not os.path.exists(r\"data\\valid\\labels\"):\n",
    "    os.makedirs(r\"data\\valid\\labels\")\n",
    "\n",
    "for file_name in os.listdir(r\"raw_data\\valid\\labels\"):\n",
    "    with open(os.path.join(r\"raw_data\\valid\\labels\",file_name),'r') as f:\n",
    "        r = f.readlines()\n",
    "        new_r = []\n",
    "        for i in range(len(r)):\n",
    "            annots = r[i].split(' ')\n",
    "            label = annots[0]\n",
    "            if meta_class_dict[int(label)] in class_dict.keys():\n",
    "                create_file = 'Y'\n",
    "                new_label = class_dict[meta_class_dict[int(label)]]\n",
    "                annots[0] = str(new_label)\n",
    "                new_annot = \" \".join(annots)\n",
    "                new_r.append(new_annot)\n",
    "    if create_file == 'Y':\n",
    "        with open(os.path.join(r\"data\\valid\\labels\", file_name), \"w\") as f:\n",
    "            f.writelines(new_r)\n",
    "    create_file = 'N'"
   ]
  },
  {
   "cell_type": "code",
   "execution_count": 14,
   "metadata": {},
   "outputs": [],
   "source": [
    "if not os.path.exists(r\"data\\train\\labels\"):\n",
    "    os.makedirs(r\"data\\train\\labels\")\n",
    "\n",
    "for file_name in os.listdir(r\"raw_data\\train\\labels\"):\n",
    "    with open(os.path.join(r\"raw_data\\train\\labels\", file_name), \"r\") as f:\n",
    "        r = f.readlines()\n",
    "        new_r = []\n",
    "        for i in range(len(r)):\n",
    "            annots = r[i].split(\" \")\n",
    "            label = annots[0]\n",
    "            if meta_class_dict[int(label)] in class_dict.keys():\n",
    "                create_file = 'Y'\n",
    "                new_label = class_dict[meta_class_dict[int(label)]]\n",
    "                annots[0] = str(new_label)\n",
    "                new_annot = \" \".join(annots)\n",
    "                new_r.append(new_annot)\n",
    "    if create_file == 'Y':\n",
    "        with open(os.path.join(r\"data\\train\\labels\", file_name), \"w\") as f:\n",
    "            f.writelines(new_r)\n",
    "    create_file = 'N'"
   ]
  },
  {
   "cell_type": "code",
   "execution_count": 13,
   "metadata": {},
   "outputs": [
    {
     "data": {
      "text/plain": [
       "False"
      ]
     },
     "execution_count": 13,
     "metadata": {},
     "output_type": "execute_result"
    }
   ],
   "source": [
    "len(os.listdir(r\"data\\valid\\labels\")) == len(os.listdir(r\"raw_data\\valid\\labels\"))"
   ]
  },
  {
   "cell_type": "code",
   "execution_count": 15,
   "metadata": {},
   "outputs": [
    {
     "data": {
      "text/plain": [
       "False"
      ]
     },
     "execution_count": 15,
     "metadata": {},
     "output_type": "execute_result"
    }
   ],
   "source": [
    "len(os.listdir(r\"data\\train\\labels\")) == len(os.listdir(r\"raw_data\\train\\labels\"))"
   ]
  },
  {
   "cell_type": "markdown",
   "metadata": {},
   "source": [
    "# Copying images for only selected classes"
   ]
  },
  {
   "cell_type": "code",
   "execution_count": 16,
   "metadata": {},
   "outputs": [
    {
     "name": "stdout",
     "output_type": "stream",
     "text": [
      "All relevant images have been copied.\n"
     ]
    }
   ],
   "source": [
    "import os\n",
    "import shutil\n",
    "\n",
    "# Define paths\n",
    "raw_images_path = 'raw_data/valid/images'\n",
    "target_images_path = 'data/valid/images'\n",
    "labels_path = 'data/valid/labels'\n",
    "\n",
    "# Create target images directory if it doesn't exist\n",
    "os.makedirs(target_images_path, exist_ok=True)\n",
    "\n",
    "# Get list of label files\n",
    "label_files = os.listdir(labels_path)\n",
    "\n",
    "for label_file in label_files:\n",
    "    # Derive image file name from label file\n",
    "    image_file = label_file.replace('.txt', '.jpg')  # Change extension as per your images\n",
    "\n",
    "    # Paths to source and destination image files\n",
    "    src_image_path = os.path.join(raw_images_path, image_file)\n",
    "    dest_image_path = os.path.join(target_images_path, image_file)\n",
    "\n",
    "    # Check if the image file exists and move it\n",
    "    if os.path.exists(src_image_path):\n",
    "        shutil.copy(src_image_path, dest_image_path)\n",
    "        #print(f\"Copied {image_file} to {target_images_path}\")\n",
    "\n",
    "print(\"All relevant images have been copied.\")\n"
   ]
  },
  {
   "cell_type": "code",
   "execution_count": 17,
   "metadata": {},
   "outputs": [
    {
     "name": "stdout",
     "output_type": "stream",
     "text": [
      "All relevant images have been copied.\n"
     ]
    }
   ],
   "source": [
    "import os\n",
    "import shutil\n",
    "\n",
    "# Define paths\n",
    "raw_images_path = 'raw_data/train/images'\n",
    "target_images_path = 'data/train/images'\n",
    "labels_path = 'data/train/labels'\n",
    "\n",
    "# Create target images directory if it doesn't exist\n",
    "os.makedirs(target_images_path, exist_ok=True)\n",
    "\n",
    "# Get list of label files\n",
    "label_files = os.listdir(labels_path)\n",
    "\n",
    "for label_file in label_files:\n",
    "    # Derive image file name from label file\n",
    "    image_file = label_file.replace('.txt', '.jpg')  # Change extension as per your images\n",
    "\n",
    "    # Paths to source and destination image files\n",
    "    src_image_path = os.path.join(raw_images_path, image_file)\n",
    "    dest_image_path = os.path.join(target_images_path, image_file)\n",
    "\n",
    "    # Check if the image file exists and move it\n",
    "    if os.path.exists(src_image_path):\n",
    "        shutil.copy(src_image_path, dest_image_path)\n",
    "        \n",
    "\n",
    "print(\"All relevant images have been copied.\")\n"
   ]
  },
  {
   "cell_type": "markdown",
   "metadata": {},
   "source": [
    "# Creating a subset data of Train and Validation"
   ]
  },
  {
   "cell_type": "code",
   "execution_count": 3,
   "metadata": {},
   "outputs": [
    {
     "name": "stdout",
     "output_type": "stream",
     "text": [
      "Selected subset of images and labels copied successfully!\n"
     ]
    }
   ],
   "source": [
    "import os\n",
    "import shutil\n",
    "import random\n",
    "\n",
    "# Define paths\n",
    "raw_images_path = \"data/valid/images\"\n",
    "target_images_path = \"datasets/valid/images\"\n",
    "labels_path = \"datasets/valid/labels\"\n",
    "num_images = 1000\n",
    "# Get list of all image files\n",
    "image_files = os.listdir(raw_images_path)\n",
    "selected_files = random.sample(image_files, num_images)\n",
    "\n",
    "if not os.path.exists(target_images_path):\n",
    "    os.makedirs(target_images_path)\n",
    "if not os.path.exists(labels_path):\n",
    "    os.makedirs(labels_path)\n",
    "\n",
    "# Copy selected images and labels to subset folder\n",
    "for file in selected_files:\n",
    "    shutil.copy(\n",
    "        os.path.join(raw_images_path, file), target_images_path\n",
    "    )\n",
    "    label_file = file.replace('.jpg', '.txt')  # Adjust extension if needed\n",
    "    shutil.copy(os.path.join(\"data/valid/labels\", label_file), labels_path)\n",
    "\n",
    "print(\"Selected subset of images and labels copied successfully!\")"
   ]
  },
  {
   "cell_type": "code",
   "execution_count": 14,
   "metadata": {},
   "outputs": [
    {
     "ename": "KeyboardInterrupt",
     "evalue": "",
     "output_type": "error",
     "traceback": [
      "\u001b[1;31m---------------------------------------------------------------------------\u001b[0m",
      "\u001b[1;31mKeyboardInterrupt\u001b[0m                         Traceback (most recent call last)",
      "Cell \u001b[1;32mIn[14], line 22\u001b[0m\n\u001b[0;32m     20\u001b[0m \u001b[38;5;66;03m# Copy selected images and labels to subset folder\u001b[39;00m\n\u001b[0;32m     21\u001b[0m \u001b[38;5;28;01mfor\u001b[39;00m file \u001b[38;5;129;01min\u001b[39;00m selected_files:\n\u001b[1;32m---> 22\u001b[0m     \u001b[43mshutil\u001b[49m\u001b[38;5;241;43m.\u001b[39;49m\u001b[43mcopy\u001b[49m\u001b[43m(\u001b[49m\u001b[43mos\u001b[49m\u001b[38;5;241;43m.\u001b[39;49m\u001b[43mpath\u001b[49m\u001b[38;5;241;43m.\u001b[39;49m\u001b[43mjoin\u001b[49m\u001b[43m(\u001b[49m\u001b[43mraw_images_path\u001b[49m\u001b[43m,\u001b[49m\u001b[43m \u001b[49m\u001b[43mfile\u001b[49m\u001b[43m)\u001b[49m\u001b[43m,\u001b[49m\u001b[43m \u001b[49m\u001b[43mtarget_images_path\u001b[49m\u001b[43m)\u001b[49m\n\u001b[0;32m     23\u001b[0m     label_file \u001b[38;5;241m=\u001b[39m file\u001b[38;5;241m.\u001b[39mreplace(\u001b[38;5;124m\"\u001b[39m\u001b[38;5;124m.jpg\u001b[39m\u001b[38;5;124m\"\u001b[39m, \u001b[38;5;124m\"\u001b[39m\u001b[38;5;124m.txt\u001b[39m\u001b[38;5;124m\"\u001b[39m)  \u001b[38;5;66;03m# Adjust extension if needed\u001b[39;00m\n\u001b[0;32m     24\u001b[0m     shutil\u001b[38;5;241m.\u001b[39mcopy(os\u001b[38;5;241m.\u001b[39mpath\u001b[38;5;241m.\u001b[39mjoin(\u001b[38;5;124m\"\u001b[39m\u001b[38;5;124mdata/train/labels\u001b[39m\u001b[38;5;124m\"\u001b[39m, label_file), labels_path)\n",
      "File \u001b[1;32mc:\\Users\\nanth\\.conda\\envs\\obj_det\\lib\\shutil.py:417\u001b[0m, in \u001b[0;36mcopy\u001b[1;34m(src, dst, follow_symlinks)\u001b[0m\n\u001b[0;32m    415\u001b[0m \u001b[38;5;28;01mif\u001b[39;00m os\u001b[38;5;241m.\u001b[39mpath\u001b[38;5;241m.\u001b[39misdir(dst):\n\u001b[0;32m    416\u001b[0m     dst \u001b[38;5;241m=\u001b[39m os\u001b[38;5;241m.\u001b[39mpath\u001b[38;5;241m.\u001b[39mjoin(dst, os\u001b[38;5;241m.\u001b[39mpath\u001b[38;5;241m.\u001b[39mbasename(src))\n\u001b[1;32m--> 417\u001b[0m \u001b[43mcopyfile\u001b[49m\u001b[43m(\u001b[49m\u001b[43msrc\u001b[49m\u001b[43m,\u001b[49m\u001b[43m \u001b[49m\u001b[43mdst\u001b[49m\u001b[43m,\u001b[49m\u001b[43m \u001b[49m\u001b[43mfollow_symlinks\u001b[49m\u001b[38;5;241;43m=\u001b[39;49m\u001b[43mfollow_symlinks\u001b[49m\u001b[43m)\u001b[49m\n\u001b[0;32m    418\u001b[0m copymode(src, dst, follow_symlinks\u001b[38;5;241m=\u001b[39mfollow_symlinks)\n\u001b[0;32m    419\u001b[0m \u001b[38;5;28;01mreturn\u001b[39;00m dst\n",
      "File \u001b[1;32mc:\\Users\\nanth\\.conda\\envs\\obj_det\\lib\\shutil.py:233\u001b[0m, in \u001b[0;36mcopyfile\u001b[1;34m(src, dst, follow_symlinks)\u001b[0m\n\u001b[0;32m    225\u001b[0m \u001b[38;5;250m\u001b[39m\u001b[38;5;124;03m\"\"\"Copy data from src to dst in the most efficient way possible.\u001b[39;00m\n\u001b[0;32m    226\u001b[0m \n\u001b[0;32m    227\u001b[0m \u001b[38;5;124;03mIf follow_symlinks is not set and src is a symbolic link, a new\u001b[39;00m\n\u001b[0;32m    228\u001b[0m \u001b[38;5;124;03msymlink will be created instead of copying the file it points to.\u001b[39;00m\n\u001b[0;32m    229\u001b[0m \n\u001b[0;32m    230\u001b[0m \u001b[38;5;124;03m\"\"\"\u001b[39;00m\n\u001b[0;32m    231\u001b[0m sys\u001b[38;5;241m.\u001b[39maudit(\u001b[38;5;124m\"\u001b[39m\u001b[38;5;124mshutil.copyfile\u001b[39m\u001b[38;5;124m\"\u001b[39m, src, dst)\n\u001b[1;32m--> 233\u001b[0m \u001b[38;5;28;01mif\u001b[39;00m \u001b[43m_samefile\u001b[49m\u001b[43m(\u001b[49m\u001b[43msrc\u001b[49m\u001b[43m,\u001b[49m\u001b[43m \u001b[49m\u001b[43mdst\u001b[49m\u001b[43m)\u001b[49m:\n\u001b[0;32m    234\u001b[0m     \u001b[38;5;28;01mraise\u001b[39;00m SameFileError(\u001b[38;5;124m\"\u001b[39m\u001b[38;5;132;01m{!r}\u001b[39;00m\u001b[38;5;124m and \u001b[39m\u001b[38;5;132;01m{!r}\u001b[39;00m\u001b[38;5;124m are the same file\u001b[39m\u001b[38;5;124m\"\u001b[39m\u001b[38;5;241m.\u001b[39mformat(src, dst))\n\u001b[0;32m    236\u001b[0m file_size \u001b[38;5;241m=\u001b[39m \u001b[38;5;241m0\u001b[39m\n",
      "File \u001b[1;32mc:\\Users\\nanth\\.conda\\envs\\obj_det\\lib\\shutil.py:210\u001b[0m, in \u001b[0;36m_samefile\u001b[1;34m(src, dst)\u001b[0m\n\u001b[0;32m    208\u001b[0m \u001b[38;5;28;01mif\u001b[39;00m \u001b[38;5;28mhasattr\u001b[39m(os\u001b[38;5;241m.\u001b[39mpath, \u001b[38;5;124m'\u001b[39m\u001b[38;5;124msamefile\u001b[39m\u001b[38;5;124m'\u001b[39m):\n\u001b[0;32m    209\u001b[0m     \u001b[38;5;28;01mtry\u001b[39;00m:\n\u001b[1;32m--> 210\u001b[0m         \u001b[38;5;28;01mreturn\u001b[39;00m \u001b[43mos\u001b[49m\u001b[38;5;241;43m.\u001b[39;49m\u001b[43mpath\u001b[49m\u001b[38;5;241;43m.\u001b[39;49m\u001b[43msamefile\u001b[49m\u001b[43m(\u001b[49m\u001b[43msrc\u001b[49m\u001b[43m,\u001b[49m\u001b[43m \u001b[49m\u001b[43mdst\u001b[49m\u001b[43m)\u001b[49m\n\u001b[0;32m    211\u001b[0m     \u001b[38;5;28;01mexcept\u001b[39;00m \u001b[38;5;167;01mOSError\u001b[39;00m:\n\u001b[0;32m    212\u001b[0m         \u001b[38;5;28;01mreturn\u001b[39;00m \u001b[38;5;28;01mFalse\u001b[39;00m\n",
      "File \u001b[1;32mc:\\Users\\nanth\\.conda\\envs\\obj_det\\lib\\genericpath.py:100\u001b[0m, in \u001b[0;36msamefile\u001b[1;34m(f1, f2)\u001b[0m\n\u001b[0;32m     94\u001b[0m \u001b[38;5;28;01mdef\u001b[39;00m \u001b[38;5;21msamefile\u001b[39m(f1, f2):\n\u001b[0;32m     95\u001b[0m \u001b[38;5;250m    \u001b[39m\u001b[38;5;124;03m\"\"\"Test whether two pathnames reference the same actual file or directory\u001b[39;00m\n\u001b[0;32m     96\u001b[0m \n\u001b[0;32m     97\u001b[0m \u001b[38;5;124;03m    This is determined by the device number and i-node number and\u001b[39;00m\n\u001b[0;32m     98\u001b[0m \u001b[38;5;124;03m    raises an exception if an os.stat() call on either pathname fails.\u001b[39;00m\n\u001b[0;32m     99\u001b[0m \u001b[38;5;124;03m    \"\"\"\u001b[39;00m\n\u001b[1;32m--> 100\u001b[0m     s1 \u001b[38;5;241m=\u001b[39m \u001b[43mos\u001b[49m\u001b[38;5;241;43m.\u001b[39;49m\u001b[43mstat\u001b[49m\u001b[43m(\u001b[49m\u001b[43mf1\u001b[49m\u001b[43m)\u001b[49m\n\u001b[0;32m    101\u001b[0m     s2 \u001b[38;5;241m=\u001b[39m os\u001b[38;5;241m.\u001b[39mstat(f2)\n\u001b[0;32m    102\u001b[0m     \u001b[38;5;28;01mreturn\u001b[39;00m samestat(s1, s2)\n",
      "\u001b[1;31mKeyboardInterrupt\u001b[0m: "
     ]
    }
   ],
   "source": [
    "import os\n",
    "import shutil\n",
    "import random\n",
    "\n",
    "# Define paths\n",
    "raw_images_path = \"data/train/images\"\n",
    "target_images_path = \"datasets/train/images\"\n",
    "labels_path = \"datasets/train/labels\"\n",
    "num_images = 5000\n",
    "\n",
    "if not os.path.exists(target_images_path):\n",
    "    os.makedirs(target_images_path)\n",
    "if not os.path.exists(labels_path):\n",
    "    os.makedirs(labels_path)\n",
    "\n",
    "# Get list of all image files\n",
    "image_files = os.listdir(raw_images_path)\n",
    "selected_files = random.sample(image_files, num_images)\n",
    "\n",
    "# Copy selected images and labels to subset folder\n",
    "for file in selected_files:\n",
    "    shutil.copy(os.path.join(raw_images_path, file), target_images_path)\n",
    "    label_file = file.replace(\".jpg\", \".txt\")  # Adjust extension if needed\n",
    "    shutil.copy(os.path.join(\"data/train/labels\", label_file), labels_path)\n",
    "\n",
    "print(\"Selected subset of images and labels copied successfully!\")"
   ]
  },
  {
   "cell_type": "markdown",
   "metadata": {},
   "source": [
    "# Creating Test Data"
   ]
  },
  {
   "cell_type": "code",
   "execution_count": 9,
   "metadata": {},
   "outputs": [
    {
     "ename": "OSError",
     "evalue": "[WinError 1450] Insufficient system resources exist to complete the requested service: 'data/train/images'",
     "output_type": "error",
     "traceback": [
      "\u001b[1;31m---------------------------------------------------------------------------\u001b[0m",
      "\u001b[1;31mOSError\u001b[0m                                   Traceback (most recent call last)",
      "Cell \u001b[1;32mIn[9], line 23\u001b[0m\n\u001b[0;32m     21\u001b[0m j \u001b[38;5;241m=\u001b[39m \u001b[38;5;241m1\u001b[39m\n\u001b[0;32m     22\u001b[0m \u001b[38;5;28;01mwhile\u001b[39;00m(i\u001b[38;5;241m<\u001b[39m\u001b[38;5;241m=\u001b[39m num_images):\n\u001b[1;32m---> 23\u001b[0m     file \u001b[38;5;241m=\u001b[39m \u001b[43mos\u001b[49m\u001b[38;5;241;43m.\u001b[39;49m\u001b[43mlistdir\u001b[49m\u001b[43m(\u001b[49m\u001b[43mcurrent_images\u001b[49m\u001b[43m)\u001b[49m[j]\n\u001b[0;32m     24\u001b[0m     \u001b[38;5;28;01mif\u001b[39;00m file \u001b[38;5;129;01mnot\u001b[39;00m \u001b[38;5;129;01min\u001b[39;00m os\u001b[38;5;241m.\u001b[39mlistdir(compare_images):\n\u001b[0;32m     25\u001b[0m         shutil\u001b[38;5;241m.\u001b[39mcopy(os\u001b[38;5;241m.\u001b[39mpath\u001b[38;5;241m.\u001b[39mjoin(current_images, file), test_images)\n",
      "\u001b[1;31mOSError\u001b[0m: [WinError 1450] Insufficient system resources exist to complete the requested service: 'data/train/images'"
     ]
    }
   ],
   "source": [
    "import os\n",
    "import shutil\n",
    "import random\n",
    "\n",
    "test_labels = \"datasets_15k/test/labels\"\n",
    "test_images = \"datasets_15k/test/images\"\n",
    "\n",
    "current_images = \"data/train/images\"\n",
    "current_labels = \"data/train/labels\"\n",
    "\n",
    "compare_images = \"datasets_15k/train/images\"\n",
    "compare_labels = \"datasets_15k/train/labels\"\n",
    "\n",
    "if not os.path.exists(test_labels):\n",
    "    os.makedirs(test_labels)\n",
    "if not os.path.exists(test_images):\n",
    "    os.makedirs(test_images)\n",
    "\n",
    "num_images = 1500\n",
    "i = 1\n",
    "j = 1\n",
    "while(i<= num_images):\n",
    "    file = os.listdir(current_images)[j]\n",
    "    if file not in os.listdir(compare_images):\n",
    "        shutil.copy(os.path.join(current_images, file), test_images)\n",
    "        label_file = file.replace(\".jpg\", \".txt\")  # Adjust extension if needed\n",
    "        shutil.copy(os.path.join(current_labels, label_file), test_labels)\n",
    "        i+=1\n",
    "    j+=1"
   ]
  },
  {
   "cell_type": "code",
   "execution_count": 7,
   "metadata": {},
   "outputs": [
    {
     "data": {
      "text/plain": [
       "388"
      ]
     },
     "execution_count": 7,
     "metadata": {},
     "output_type": "execute_result"
    }
   ],
   "source": [
    "len(os.listdir(\"datasets_15k/test/images\"))"
   ]
  },
  {
   "cell_type": "code",
   "execution_count": null,
   "metadata": {},
   "outputs": [],
   "source": []
  }
 ],
 "metadata": {
  "kernelspec": {
   "display_name": "obj_det",
   "language": "python",
   "name": "python3"
  },
  "language_info": {
   "codemirror_mode": {
    "name": "ipython",
    "version": 3
   },
   "file_extension": ".py",
   "mimetype": "text/x-python",
   "name": "python",
   "nbconvert_exporter": "python",
   "pygments_lexer": "ipython3",
   "version": "3.10.15"
  }
 },
 "nbformat": 4,
 "nbformat_minor": 2
}
